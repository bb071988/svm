{
 "cells": [
  {
   "cell_type": "code",
   "execution_count": 5,
   "metadata": {
    "collapsed": true
   },
   "outputs": [],
   "source": [
    "%matplotlib inline"
   ]
  },
  {
   "cell_type": "code",
   "execution_count": 21,
   "metadata": {
    "collapsed": true
   },
   "outputs": [],
   "source": [
    "import numpy as np\n",
    "import pandas as pd\n",
    "from sklearn import datasets, svm\n",
    "from sklearn.model_selection import KFold, cross_val_score\n"
   ]
  },
  {
   "cell_type": "code",
   "execution_count": 7,
   "metadata": {
    "collapsed": true
   },
   "outputs": [],
   "source": [
    "# Initial data load\n",
    "iris = datasets.load_iris()\n"
   ]
  },
  {
   "cell_type": "code",
   "execution_count": 16,
   "metadata": {
    "collapsed": false
   },
   "outputs": [],
   "source": [
    "# setup kfolds instance\n",
    "\n",
    "kf = KFold(n_splits = 4, random_state = 88 , shuffle = True)\n",
    "\n",
    "#### *****************\n",
    "# VERY IMPORTANT TO SET SHUFFLE TO TRUE AND INCLUDE RANDOM STATE - FILE IS SORTED AND WITHOUT THESE ATTRIBUTES SET PROPERLY\n",
    "# KF WILL SIMPLY DIVIDE THE FILE WITHOUT CHANGING ORDER - ACCURACY GOES FROM low 30% to high 90% WITH THESE FEATURES PROPERLY SET.\n",
    "\n"
   ]
  },
  {
   "cell_type": "code",
   "execution_count": 17,
   "metadata": {
    "collapsed": false
   },
   "outputs": [],
   "source": [
    "# helper function to compute accuracy of model\n",
    "def get_accuracy(preds,targetvalues):\n",
    "    acc1 = preds - targetvalues # subtract the arrays - take advantage of broadcasting\n",
    "    acc2 = np.count_nonzero(acc1) # get the nonzero values - where the model is wrong\n",
    "    acc3 = 1.000 * (len(acc1) - acc2) / len(acc1) # Number right over total * 1.000 to convert to float\n",
    "    return(acc3)"
   ]
  },
  {
   "cell_type": "code",
   "execution_count": 85,
   "metadata": {
    "collapsed": false
   },
   "outputs": [
    {
     "name": "stdout",
     "output_type": "stream",
     "text": [
      "Accuracy of model 0 manually calculated is 1.00000\n",
      "Accuracy of model 0 using cross_val_score function : [ 1.          0.96428571  0.96428571  1.        ]\n",
      "Model mean is 0.98 - 95% confidence interval is +/-0.02 : \n",
      "F1 scores for model 0 are [ 1.          0.97432099  0.97217391  0.97217391]\n",
      "Accuracy of model 1 manually calculated is 0.92105\n",
      "Accuracy of model 1 using cross_val_score function : [ 1.  1.  1.  1.]\n",
      "Model mean is 0.98 - 95% confidence interval is +/-0.02 : \n",
      "F1 scores for model 1 are [ 1.          0.97432099  0.97217391  0.97217391]\n",
      "Accuracy of model 2 manually calculated is 1.00000\n",
      "Accuracy of model 2 using cross_val_score function : [ 1.          0.96428571  0.96428571  1.        ]\n",
      "Model mean is 0.98 - 95% confidence interval is +/-0.02 : \n",
      "F1 scores for model 2 are [ 1.          0.97432099  0.97217391  0.97217391]\n",
      "Accuracy of model 3 manually calculated is 0.91892\n",
      "Accuracy of model 3 using cross_val_score function : [ 1.          1.          0.92592593  0.96296296]\n",
      "Model mean is 0.98 - 95% confidence interval is +/-0.02 : \n",
      "F1 scores for model 3 are [ 1.          0.97432099  0.97217391  0.97217391]\n"
     ]
    }
   ],
   "source": [
    "\n",
    "modeldict = {}\n",
    "modelcount = 0\n",
    "\n",
    "\n",
    "for train_index, test_index in kf.split(X):\n",
    "    # create instance of svm model\n",
    "    svc = svm.SVC(kernel='linear')\n",
    "\n",
    "    model = svc.fit(iris.data[train_index], iris.target[train_index])\n",
    "    preds = model.predict(iris.data[test_index])\n",
    "    targetvalues = iris.target[test_index]\n",
    "    accuracy = get_accuracy(preds, targetvalues)\n",
    "    print('Accuracy of model {} manually calculated is {:1.5f}'.format(modelcount,accuracy))\n",
    "    scores = cross_val_score(svc, iris.data, iris.target, cv = 4)\n",
    "    scoresconf95 = scores.std() * 2\n",
    "    \n",
    "    print('Accuracy of model {} using cross_val_score function : {}'\\\n",
    "          .format(modelcount, cross_val_score(svc, iris.data[train_index],iris.target[train_index], cv = 4)))\n",
    "    print(\"Model mean is {:1.2f} - 95% confidence interval is +/-{:1.2f} : \".format(scores.mean(), scoresconf95))\n",
    "    \n",
    "    f1scores = cross_val_score(svc, iris.data, iris.target, cv = 4, scoring='f1_macro')\n",
    "    print(\"F1 scores for model {} are {}\".format(modelcount,f1scores))\n",
    "    \n",
    "\n",
    "\n",
    "    modeldict[modelcount] = {'model': model, 'train_index': train_index, 'test_index': test_index, \\\n",
    "                             'preds' : preds, 'targetvalues': targetvalues, 'accuracy': accuracy} \n",
    "    modelcount += 1\n",
    "\n",
    "\n"
   ]
  },
  {
   "cell_type": "code",
   "execution_count": 86,
   "metadata": {
    "collapsed": false
   },
   "outputs": [],
   "source": [
    "#think about confusion matrix and classification report capabiltiies in scikit\n"
   ]
  },
  {
   "cell_type": "code",
   "execution_count": 87,
   "metadata": {
    "collapsed": false
   },
   "outputs": [
    {
     "data": {
      "text/plain": [
       "{0: {'accuracy': 1.0,\n",
       "  'model': SVC(C=1.0, cache_size=200, class_weight=None, coef0=0.0,\n",
       "    decision_function_shape=None, degree=3, gamma='auto', kernel='linear',\n",
       "    max_iter=-1, probability=False, random_state=None, shrinking=True,\n",
       "    tol=0.001, verbose=False),\n",
       "  'preds': array([0, 0, 0, 0, 0, 0, 0, 0, 0, 0, 0, 0, 0, 1, 1, 1, 1, 1, 1, 1, 1, 1, 1,\n",
       "         2, 2, 2, 2, 2, 2, 2, 2, 2, 2, 2, 2, 2, 2, 2]),\n",
       "  'targetvalues': array([0, 0, 0, 0, 0, 0, 0, 0, 0, 0, 0, 0, 0, 1, 1, 1, 1, 1, 1, 1, 1, 1, 1,\n",
       "         2, 2, 2, 2, 2, 2, 2, 2, 2, 2, 2, 2, 2, 2, 2]),\n",
       "  'test_index': array([ 14,  15,  17,  19,  20,  22,  24,  29,  30,  31,  33,  39,  45,\n",
       "          52,  53,  55,  57,  59,  60,  66,  73,  84,  95, 100, 104, 109,\n",
       "         111, 113, 116, 117, 120, 121, 123, 129, 130, 133, 134, 140], dtype=int64),\n",
       "  'train_index': array([  0,   1,   2,   3,   4,   5,   6,   7,   8,   9,  10,  11,  12,\n",
       "          13,  16,  18,  21,  23,  25,  26,  27,  28,  32,  34,  35,  36,\n",
       "          37,  38,  40,  41,  42,  43,  44,  46,  47,  48,  49,  50,  51,\n",
       "          54,  56,  58,  61,  62,  63,  64,  65,  67,  68,  69,  70,  71,\n",
       "          72,  74,  75,  76,  77,  78,  79,  80,  81,  82,  83,  85,  86,\n",
       "          87,  88,  89,  90,  91,  92,  93,  94,  96,  97,  98,  99, 101,\n",
       "         102, 103, 105, 106, 107, 108, 110, 112, 114, 115, 118, 119, 122,\n",
       "         124, 125, 126, 127, 128, 131, 132, 135, 136, 137, 138, 139, 141,\n",
       "         142, 143, 144, 145, 146, 147, 148, 149], dtype=int64)},\n",
       " 1: {'accuracy': 0.9210526315789473,\n",
       "  'model': SVC(C=1.0, cache_size=200, class_weight=None, coef0=0.0,\n",
       "    decision_function_shape=None, degree=3, gamma='auto', kernel='linear',\n",
       "    max_iter=-1, probability=False, random_state=None, shrinking=True,\n",
       "    tol=0.001, verbose=False),\n",
       "  'preds': array([0, 0, 0, 0, 0, 0, 0, 0, 0, 0, 0, 0, 1, 1, 1, 1, 2, 1, 1, 1, 1, 2, 1,\n",
       "         1, 1, 2, 2, 2, 2, 2, 2, 2, 2, 2, 1, 2, 2, 2]),\n",
       "  'targetvalues': array([0, 0, 0, 0, 0, 0, 0, 0, 0, 0, 0, 0, 1, 1, 1, 1, 1, 1, 1, 1, 1, 1, 1,\n",
       "         1, 1, 2, 2, 2, 2, 2, 2, 2, 2, 2, 2, 2, 2, 2]),\n",
       "  'test_index': array([  2,   6,   8,   9,  12,  18,  26,  36,  42,  43,  44,  48,  58,\n",
       "          64,  68,  69,  72,  74,  76,  81,  82,  83,  87,  91,  98, 103,\n",
       "         107, 110, 114, 122, 124, 126, 128, 135, 138, 139, 146, 147], dtype=int64),\n",
       "  'train_index': array([  0,   1,   3,   4,   5,   7,  10,  11,  13,  14,  15,  16,  17,\n",
       "          19,  20,  21,  22,  23,  24,  25,  27,  28,  29,  30,  31,  32,\n",
       "          33,  34,  35,  37,  38,  39,  40,  41,  45,  46,  47,  49,  50,\n",
       "          51,  52,  53,  54,  55,  56,  57,  59,  60,  61,  62,  63,  65,\n",
       "          66,  67,  70,  71,  73,  75,  77,  78,  79,  80,  84,  85,  86,\n",
       "          88,  89,  90,  92,  93,  94,  95,  96,  97,  99, 100, 101, 102,\n",
       "         104, 105, 106, 108, 109, 111, 112, 113, 115, 116, 117, 118, 119,\n",
       "         120, 121, 123, 125, 127, 129, 130, 131, 132, 133, 134, 136, 137,\n",
       "         140, 141, 142, 143, 144, 145, 148, 149], dtype=int64)},\n",
       " 2: {'accuracy': 1.0,\n",
       "  'model': SVC(C=1.0, cache_size=200, class_weight=None, coef0=0.0,\n",
       "    decision_function_shape=None, degree=3, gamma='auto', kernel='linear',\n",
       "    max_iter=-1, probability=False, random_state=None, shrinking=True,\n",
       "    tol=0.001, verbose=False),\n",
       "  'preds': array([0, 0, 0, 0, 0, 0, 0, 0, 0, 0, 0, 0, 0, 1, 1, 1, 1, 1, 1, 1, 1, 1, 1,\n",
       "         1, 1, 1, 1, 1, 2, 2, 2, 2, 2, 2, 2, 2, 2]),\n",
       "  'targetvalues': array([0, 0, 0, 0, 0, 0, 0, 0, 0, 0, 0, 0, 0, 1, 1, 1, 1, 1, 1, 1, 1, 1, 1,\n",
       "         1, 1, 1, 1, 1, 2, 2, 2, 2, 2, 2, 2, 2, 2]),\n",
       "  'test_index': array([  0,   4,  23,  25,  27,  28,  35,  37,  38,  41,  46,  47,  49,\n",
       "          50,  51,  54,  56,  61,  63,  65,  67,  79,  80,  85,  88,  92,\n",
       "          93,  96, 105, 115, 118, 125, 131, 136, 141, 142, 145], dtype=int64),\n",
       "  'train_index': array([  1,   2,   3,   5,   6,   7,   8,   9,  10,  11,  12,  13,  14,\n",
       "          15,  16,  17,  18,  19,  20,  21,  22,  24,  26,  29,  30,  31,\n",
       "          32,  33,  34,  36,  39,  40,  42,  43,  44,  45,  48,  52,  53,\n",
       "          55,  57,  58,  59,  60,  62,  64,  66,  68,  69,  70,  71,  72,\n",
       "          73,  74,  75,  76,  77,  78,  81,  82,  83,  84,  86,  87,  89,\n",
       "          90,  91,  94,  95,  97,  98,  99, 100, 101, 102, 103, 104, 106,\n",
       "         107, 108, 109, 110, 111, 112, 113, 114, 116, 117, 119, 120, 121,\n",
       "         122, 123, 124, 126, 127, 128, 129, 130, 132, 133, 134, 135, 137,\n",
       "         138, 139, 140, 143, 144, 146, 147, 148, 149], dtype=int64)},\n",
       " 3: {'accuracy': 0.918918918918919,\n",
       "  'model': SVC(C=1.0, cache_size=200, class_weight=None, coef0=0.0,\n",
       "    decision_function_shape=None, degree=3, gamma='auto', kernel='linear',\n",
       "    max_iter=-1, probability=False, random_state=None, shrinking=True,\n",
       "    tol=0.001, verbose=False),\n",
       "  'preds': array([0, 0, 0, 0, 0, 0, 0, 0, 0, 0, 0, 0, 1, 2, 1, 1, 2, 1, 1, 1, 1, 1, 1,\n",
       "         1, 2, 2, 1, 2, 2, 2, 2, 2, 2, 2, 2, 2, 2]),\n",
       "  'targetvalues': array([0, 0, 0, 0, 0, 0, 0, 0, 0, 0, 0, 0, 1, 1, 1, 1, 1, 1, 1, 1, 1, 1, 1,\n",
       "         1, 2, 2, 2, 2, 2, 2, 2, 2, 2, 2, 2, 2, 2]),\n",
       "  'test_index': array([  1,   3,   5,   7,  10,  11,  13,  16,  21,  32,  34,  40,  62,\n",
       "          70,  71,  75,  77,  78,  86,  89,  90,  94,  97,  99, 101, 102,\n",
       "         106, 108, 112, 119, 127, 132, 137, 143, 144, 148, 149], dtype=int64),\n",
       "  'train_index': array([  0,   2,   4,   6,   8,   9,  12,  14,  15,  17,  18,  19,  20,\n",
       "          22,  23,  24,  25,  26,  27,  28,  29,  30,  31,  33,  35,  36,\n",
       "          37,  38,  39,  41,  42,  43,  44,  45,  46,  47,  48,  49,  50,\n",
       "          51,  52,  53,  54,  55,  56,  57,  58,  59,  60,  61,  63,  64,\n",
       "          65,  66,  67,  68,  69,  72,  73,  74,  76,  79,  80,  81,  82,\n",
       "          83,  84,  85,  87,  88,  91,  92,  93,  95,  96,  98, 100, 103,\n",
       "         104, 105, 107, 109, 110, 111, 113, 114, 115, 116, 117, 118, 120,\n",
       "         121, 122, 123, 124, 125, 126, 128, 129, 130, 131, 133, 134, 135,\n",
       "         136, 138, 139, 140, 141, 142, 145, 146, 147], dtype=int64)}}"
      ]
     },
     "execution_count": 87,
     "metadata": {},
     "output_type": "execute_result"
    }
   ],
   "source": [
    "modeldict"
   ]
  },
  {
   "cell_type": "code",
   "execution_count": null,
   "metadata": {
    "collapsed": true
   },
   "outputs": [],
   "source": []
  }
 ],
 "metadata": {
  "kernelspec": {
   "display_name": "Python 2",
   "language": "python",
   "name": "python2"
  },
  "language_info": {
   "codemirror_mode": {
    "name": "ipython",
    "version": 2
   },
   "file_extension": ".py",
   "mimetype": "text/x-python",
   "name": "python",
   "nbconvert_exporter": "python",
   "pygments_lexer": "ipython2",
   "version": "2.7.12"
  }
 },
 "nbformat": 4,
 "nbformat_minor": 0
}
